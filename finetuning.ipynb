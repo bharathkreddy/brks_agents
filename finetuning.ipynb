{
  "cells": [
    {
      "cell_type": "markdown",
      "metadata": {
        "id": "view-in-github",
        "colab_type": "text"
      },
      "source": [
        "<a href=\"https://colab.research.google.com/github/bharathkreddy/brks_agents/blob/main/finetuning.ipynb\" target=\"_parent\"><img src=\"https://colab.research.google.com/assets/colab-badge.svg\" alt=\"Open In Colab\"/></a>"
      ]
    },
    {
      "cell_type": "code",
      "execution_count": 109,
      "metadata": {
        "colab": {
          "base_uri": "https://localhost:8080/"
        },
        "id": "7cnTwwRde4oq",
        "outputId": "77c9c088-ee20-4e04-8acc-abbc987ff69b"
      },
      "outputs": [
        {
          "output_type": "stream",
          "name": "stdout",
          "text": [
            "Requirement already satisfied: python-dotenv in /usr/local/lib/python3.11/dist-packages (1.1.1)\n",
            "Requirement already satisfied: datasets==3.6.0 in /usr/local/lib/python3.11/dist-packages (3.6.0)\n",
            "Requirement already satisfied: filelock in /usr/local/lib/python3.11/dist-packages (from datasets==3.6.0) (3.18.0)\n",
            "Requirement already satisfied: numpy>=1.17 in /usr/local/lib/python3.11/dist-packages (from datasets==3.6.0) (2.0.2)\n",
            "Requirement already satisfied: pyarrow>=15.0.0 in /usr/local/lib/python3.11/dist-packages (from datasets==3.6.0) (18.1.0)\n",
            "Requirement already satisfied: dill<0.3.9,>=0.3.0 in /usr/local/lib/python3.11/dist-packages (from datasets==3.6.0) (0.3.7)\n",
            "Requirement already satisfied: pandas in /usr/local/lib/python3.11/dist-packages (from datasets==3.6.0) (2.2.2)\n",
            "Requirement already satisfied: requests>=2.32.2 in /usr/local/lib/python3.11/dist-packages (from datasets==3.6.0) (2.32.3)\n",
            "Requirement already satisfied: tqdm>=4.66.3 in /usr/local/lib/python3.11/dist-packages (from datasets==3.6.0) (4.67.1)\n",
            "Requirement already satisfied: xxhash in /usr/local/lib/python3.11/dist-packages (from datasets==3.6.0) (3.5.0)\n",
            "Requirement already satisfied: multiprocess<0.70.17 in /usr/local/lib/python3.11/dist-packages (from datasets==3.6.0) (0.70.15)\n",
            "Requirement already satisfied: fsspec<=2025.3.0,>=2023.1.0 in /usr/local/lib/python3.11/dist-packages (from fsspec[http]<=2025.3.0,>=2023.1.0->datasets==3.6.0) (2025.3.0)\n",
            "Requirement already satisfied: huggingface-hub>=0.24.0 in /usr/local/lib/python3.11/dist-packages (from datasets==3.6.0) (0.33.4)\n",
            "Requirement already satisfied: packaging in /usr/local/lib/python3.11/dist-packages (from datasets==3.6.0) (25.0)\n",
            "Requirement already satisfied: pyyaml>=5.1 in /usr/local/lib/python3.11/dist-packages (from datasets==3.6.0) (6.0.2)\n",
            "Requirement already satisfied: aiohttp!=4.0.0a0,!=4.0.0a1 in /usr/local/lib/python3.11/dist-packages (from fsspec[http]<=2025.3.0,>=2023.1.0->datasets==3.6.0) (3.11.15)\n",
            "Requirement already satisfied: typing-extensions>=3.7.4.3 in /usr/local/lib/python3.11/dist-packages (from huggingface-hub>=0.24.0->datasets==3.6.0) (4.14.1)\n",
            "Requirement already satisfied: hf-xet<2.0.0,>=1.1.2 in /usr/local/lib/python3.11/dist-packages (from huggingface-hub>=0.24.0->datasets==3.6.0) (1.1.5)\n",
            "Requirement already satisfied: charset-normalizer<4,>=2 in /usr/local/lib/python3.11/dist-packages (from requests>=2.32.2->datasets==3.6.0) (3.4.2)\n",
            "Requirement already satisfied: idna<4,>=2.5 in /usr/local/lib/python3.11/dist-packages (from requests>=2.32.2->datasets==3.6.0) (3.10)\n",
            "Requirement already satisfied: urllib3<3,>=1.21.1 in /usr/local/lib/python3.11/dist-packages (from requests>=2.32.2->datasets==3.6.0) (2.5.0)\n",
            "Requirement already satisfied: certifi>=2017.4.17 in /usr/local/lib/python3.11/dist-packages (from requests>=2.32.2->datasets==3.6.0) (2025.7.14)\n",
            "Requirement already satisfied: python-dateutil>=2.8.2 in /usr/local/lib/python3.11/dist-packages (from pandas->datasets==3.6.0) (2.9.0.post0)\n",
            "Requirement already satisfied: pytz>=2020.1 in /usr/local/lib/python3.11/dist-packages (from pandas->datasets==3.6.0) (2025.2)\n",
            "Requirement already satisfied: tzdata>=2022.7 in /usr/local/lib/python3.11/dist-packages (from pandas->datasets==3.6.0) (2025.2)\n",
            "Requirement already satisfied: aiohappyeyeballs>=2.3.0 in /usr/local/lib/python3.11/dist-packages (from aiohttp!=4.0.0a0,!=4.0.0a1->fsspec[http]<=2025.3.0,>=2023.1.0->datasets==3.6.0) (2.6.1)\n",
            "Requirement already satisfied: aiosignal>=1.1.2 in /usr/local/lib/python3.11/dist-packages (from aiohttp!=4.0.0a0,!=4.0.0a1->fsspec[http]<=2025.3.0,>=2023.1.0->datasets==3.6.0) (1.4.0)\n",
            "Requirement already satisfied: attrs>=17.3.0 in /usr/local/lib/python3.11/dist-packages (from aiohttp!=4.0.0a0,!=4.0.0a1->fsspec[http]<=2025.3.0,>=2023.1.0->datasets==3.6.0) (25.3.0)\n",
            "Requirement already satisfied: frozenlist>=1.1.1 in /usr/local/lib/python3.11/dist-packages (from aiohttp!=4.0.0a0,!=4.0.0a1->fsspec[http]<=2025.3.0,>=2023.1.0->datasets==3.6.0) (1.7.0)\n",
            "Requirement already satisfied: multidict<7.0,>=4.5 in /usr/local/lib/python3.11/dist-packages (from aiohttp!=4.0.0a0,!=4.0.0a1->fsspec[http]<=2025.3.0,>=2023.1.0->datasets==3.6.0) (6.6.3)\n",
            "Requirement already satisfied: propcache>=0.2.0 in /usr/local/lib/python3.11/dist-packages (from aiohttp!=4.0.0a0,!=4.0.0a1->fsspec[http]<=2025.3.0,>=2023.1.0->datasets==3.6.0) (0.3.2)\n",
            "Requirement already satisfied: yarl<2.0,>=1.17.0 in /usr/local/lib/python3.11/dist-packages (from aiohttp!=4.0.0a0,!=4.0.0a1->fsspec[http]<=2025.3.0,>=2023.1.0->datasets==3.6.0) (1.20.1)\n",
            "Requirement already satisfied: six>=1.5 in /usr/local/lib/python3.11/dist-packages (from python-dateutil>=2.8.2->pandas->datasets==3.6.0) (1.17.0)\n"
          ]
        }
      ],
      "source": [
        "!pip install python-dotenv\n",
        "!pip install datasets==3.6.0 # for ValueError: doesn't have a 'trust_remote_code' key. (load_dataset)"
      ]
    },
    {
      "cell_type": "code",
      "execution_count": 110,
      "metadata": {
        "id": "GVT2XXLReOPv"
      },
      "outputs": [],
      "source": [
        "# imports\n",
        "\n",
        "import os\n",
        "from dotenv import load_dotenv\n",
        "from huggingface_hub import login\n",
        "from datasets import load_dataset, Dataset, DatasetDict\n",
        "import matplotlib.pyplot as plt"
      ]
    },
    {
      "cell_type": "code",
      "execution_count": 111,
      "metadata": {
        "id": "POfR-bIkejg5"
      },
      "outputs": [],
      "source": [
        "from google.colab import userdata\n",
        "HF_TOKEN = userdata.get('HUGGINGFACE_API_KEY')\n",
        "login(HF_TOKEN, add_to_git_credential=True)"
      ]
    },
    {
      "cell_type": "code",
      "execution_count": 112,
      "metadata": {
        "id": "uuhrUoVVfH1Q"
      },
      "outputs": [],
      "source": [
        "# data from https://huggingface.co/datasets/McAuley-Lab/Amazon-Reviews-2023\n",
        "\n",
        "dataset = load_dataset(\"McAuley-Lab/Amazon-Reviews-2023\", f\"raw_meta_Appliances\", split=\"full\", trust_remote_code=True)"
      ]
    },
    {
      "cell_type": "code",
      "execution_count": null,
      "metadata": {
        "colab": {
          "base_uri": "https://localhost:8080/"
        },
        "id": "QwuIdPELfDeB",
        "outputId": "6c63516a-e23d-4ac5-ffe7-7da11a7ed800"
      },
      "outputs": [
        {
          "name": "stdout",
          "output_type": "stream",
          "text": [
            "{'main_category': 'Industrial & Scientific', 'title': 'ROVSUN Ice Maker Machine Countertop, Make 44lbs Ice in 24 Hours, Compact & Portable Ice Maker with Ice Basket for Home, Office, Kitchen, Bar (Silver)', 'average_rating': 3.7, 'rating_number': 61, 'features': ['【Quick Ice Making】This countertop ice machine creates crystal & bullet shaped ice cubes; 44lbs of ice ready in 24 hours, 12 cubes made per cycle within 10 mins; you can perfectly use it for drinks, wine, smoothies, food', '【Portable Design】The weight of this ice maker is only 23.3lbs, and the small size (10.63 x14.37 x 12.87)\" makes it portable. It\\'s compact feature is perfect for home, office, apartments, dormitories, RVs and more, it can be placed on countertop or tabletop, plug it anywhere you like', '【Simple Operation】Adding the water tank with purified water; Power on machine and press \"on/off\" button to start ice making process; After 8-12 minutes, ice cube will fall off into the ice basket automatically; Take it out and make you cool', '【Full Monitoring】 Designed with compressor cooling system, operates at low noise and will not disturb your normal life; See-through window on top allows you to easily view the progress and check ice level', \"【1 Year Warranty】We do cover 1 year warranty on this ice maker, any questions about it, please don't hesitate to contact us at any time for getting a satisfied service. Worry free purchase, so get this ice machine home today\"], 'description': [], 'price': 'None', 'images': {'hi_res': ['https://m.media-amazon.com/images/I/61zNIJh6ZCL._SL1500_.jpg', 'https://m.media-amazon.com/images/I/71i3VazBG1L._SL1500_.jpg', 'https://m.media-amazon.com/images/I/71INhlaKSGL._SL1500_.jpg', 'https://m.media-amazon.com/images/I/71IjZxwpPgL._SL1500_.jpg', 'https://m.media-amazon.com/images/I/8154EOa6mML._SL1500_.jpg', 'https://m.media-amazon.com/images/I/71P3bDmPIXL._SL1500_.jpg', 'https://m.media-amazon.com/images/I/71ST326RerL._SL1500_.jpg', 'https://m.media-amazon.com/images/I/81I6c2yZStL._SL1500_.jpg', 'https://m.media-amazon.com/images/I/71Dap4gcywL._SL1500_.jpg'], 'large': ['https://m.media-amazon.com/images/I/31idkuA3KlL.jpg', 'https://m.media-amazon.com/images/I/41-MiODg9xL.jpg', 'https://m.media-amazon.com/images/I/41wDXfH8m8L.jpg', 'https://m.media-amazon.com/images/I/41U-3N4Al4L.jpg', 'https://m.media-amazon.com/images/I/51ZMIaw5j+L.jpg', 'https://m.media-amazon.com/images/I/41rxwKw1FqL.jpg', 'https://m.media-amazon.com/images/I/5146wcOEdfL.jpg', 'https://m.media-amazon.com/images/I/61-9E6JF51L.jpg', 'https://m.media-amazon.com/images/I/51+Ddh3KfhL.jpg'], 'thumb': ['https://m.media-amazon.com/images/I/31idkuA3KlL._SX38_SY50_CR,0,0,38,50_.jpg', 'https://m.media-amazon.com/images/I/41-MiODg9xL._SX38_SY50_CR,0,0,38,50_.jpg', 'https://m.media-amazon.com/images/I/41wDXfH8m8L._SX38_SY50_CR,0,0,38,50_.jpg', 'https://m.media-amazon.com/images/I/41U-3N4Al4L._SX38_SY50_CR,0,0,38,50_.jpg', 'https://m.media-amazon.com/images/I/51ZMIaw5j+L._SX38_SY50_CR,0,0,38,50_.jpg', 'https://m.media-amazon.com/images/I/41rxwKw1FqL._SX38_SY50_CR,0,0,38,50_.jpg', 'https://m.media-amazon.com/images/I/5146wcOEdfL._SX38_SY50_CR,0,0,38,50_.jpg', 'https://m.media-amazon.com/images/I/61-9E6JF51L._SX38_SY50_CR,0,0,38,50_.jpg', 'https://m.media-amazon.com/images/I/51+Ddh3KfhL._SX38_SY50_CR,0,0,38,50_.jpg'], 'variant': ['MAIN', 'PT01', 'PT02', 'PT03', 'PT04', 'PT05', 'PT06', 'PT07', 'PT08']}, 'videos': {'title': ['Our Point of View on the Euhomy Ice Maker Machine', 'Frigidaire Ice Maker, Stainless (5 Stars) ', 'Review & Demonstration - Silonn Ice Maker - NOT BAD!', ' Never Run Out of Ice', 'Live DEMO - How Fast Can You Really Make Ice With EUHOMY?', 'Portable Ice Maker Countertop 26Lbs/24H', 'Countertop ice machine 2 size bullet style ice ', 'HONEST Review of Frigidare Ice Maker', 'VIVOHOME Countertop Automatic Ice Cube Maker Machine', 'How To Clean Your Ice Maker '], 'url': ['https://www.amazon.com/vdp/04e6baae04404579891e175567cb7b9d?ref=dp_vse_rvc_0', 'https://www.amazon.com/vdp/0d6ee873c04545e297872f21f38ecd09?ref=dp_vse_rvc_1', 'https://www.amazon.com/vdp/0576ed1078764f53996bef3725ff767d?ref=dp_vse_rvc_2', 'https://www.amazon.com/vdp/0f8034b1507d4db8b05eb89321599eb0?ref=dp_vse_rvc_3', 'https://www.amazon.com/vdp/02caa2103d524af08793cecf3ec72fb0?ref=dp_vse_rvc_4', 'https://www.amazon.com/vdp/0bbb3e5c7b114ed9acde5bc1cc0d6e56?ref=dp_vse_rvc_5', 'https://www.amazon.com/vdp/036aa78c1fce4d66975a8d9df13cf692?ref=dp_vse_rvc_6', 'https://www.amazon.com/vdp/0eee9377eebf416f92f40c79a1201b0a?ref=dp_vse_rvc_7', 'https://www.amazon.com/vdp/08e510fdb18448fea830d0a358fddc3f?ref=dp_vse_rvc_8', 'https://www.amazon.com/vdp/0f989ad8e1aa4b999beac8a87542f2f6?ref=dp_vse_rvc_9'], 'user_id': ['/shop/influencer-20a38664', '/shop/dr.nailnipperfanpage', '/shop/influencer-5d9ad12c', '/shop/mdomer8', '/shop/influencer-767279e2', '', '/shop/wolfzoidgaming', '/shop/sensationmecrazy', '', '/shop/videozeus']}, 'store': 'ROVSUN', 'categories': ['Appliances', 'Refrigerators, Freezers & Ice Makers', 'Ice Makers'], 'details': '{\"Brand\": \"ROVSUN\", \"Model Name\": \"ICM-2005\", \"Capacity\": \"44 Pounds\", \"Wattage\": \"120 watts\", \"Voltage\": \"120 Volts\", \"Package Dimensions\": \"18 x 16 x 13.5 inches; 26.5 Pounds\", \"Date First Available\": \"March 17, 2021\", \"Manufacturer\": \"ROVSUN\"}', 'parent_asin': 'B08Z743RRD', 'bought_together': None, 'subtitle': None, 'author': None}\n",
            "{'main_category': 'Tools & Home Improvement', 'title': 'HANSGO Egg Holder for Refrigerator, Deviled Eggs Dispenser Egg Storage Stackable Plastic Egg Containers Hold ups to 10 Eggs', 'average_rating': 4.2, 'rating_number': 75, 'features': ['Plastic', 'Practical Kitchen Storage - Our egg holder holds up to 10 eggs in normal size, keep eggs safe and fresh with this home basics fridge bin.', 'Easy to Use - Egg holder for refrigerator can be superimposed on the refrigerator, beautiful and room-saving, neatly organize your refrigerator without any loose eggs or flimsy egg cartons. Super easy to clean, you just need to use a sponge or rag to wipe water after washing.', 'Premium Quality - Our transparent egg box is made of high-grade plastic, BPA free, nontoxic and odorless, safe and durable. Size: 10.6 x 4.9 x 2.7inches (L x W x H)', 'Storage Organizer - Our egg trays are the perfect solution for fridge organizing, suited to contain the egg that is smaller than 6cm, compact design effortlessly fits into any refrigerator to help maximize your space without crushing any eggs, also suitable for storage strawberries, dumplings and other kinds of dim sum.', 'Widely Used - Our deviled eggs container is suitable for fridge, freezer, pantry, refrigerator, kitchen cabinets, camping and picnic. Store eggs safely while preserving the freshness.'], 'description': [], 'price': 'None', 'images': {'hi_res': ['https://m.media-amazon.com/images/I/61TWUez1VxL._AC_SL1500_.jpg', 'https://m.media-amazon.com/images/I/514FxZ+3ueL._AC_SL1001_.jpg', 'https://m.media-amazon.com/images/I/61Mxq8-5d7L._AC_SL1001_.jpg', 'https://m.media-amazon.com/images/I/61h5HsdFbZL._AC_SL1001_.jpg', 'https://m.media-amazon.com/images/I/51x6eIAHZQL._AC_SL1001_.jpg', 'https://m.media-amazon.com/images/I/71Zl9mgPHXL._AC_SL1001_.jpg', 'https://m.media-amazon.com/images/I/71eYATu8HYL._AC_SL1001_.jpg', 'https://m.media-amazon.com/images/I/71gJ9weHeHL._AC_SL1001_.jpg'], 'large': ['https://m.media-amazon.com/images/I/41tg+CPGV-L._AC_.jpg', 'https://m.media-amazon.com/images/I/41pJ4enmssL._AC_.jpg', 'https://m.media-amazon.com/images/I/51oxQpNes8L._AC_.jpg', 'https://m.media-amazon.com/images/I/51jI+e26heL._AC_.jpg', 'https://m.media-amazon.com/images/I/410pWlX49yL._AC_.jpg', 'https://m.media-amazon.com/images/I/61eqTc6VAFL._AC_.jpg', 'https://m.media-amazon.com/images/I/616rUNl-mVL._AC_.jpg', 'https://m.media-amazon.com/images/I/61t5q6aG7DL._AC_.jpg'], 'thumb': ['https://m.media-amazon.com/images/I/41tg+CPGV-L._AC_US75_.jpg', 'https://m.media-amazon.com/images/I/41pJ4enmssL._AC_US75_.jpg', 'https://m.media-amazon.com/images/I/51oxQpNes8L._AC_US75_.jpg', 'https://m.media-amazon.com/images/I/51jI+e26heL._AC_US75_.jpg', 'https://m.media-amazon.com/images/I/410pWlX49yL._AC_US75_.jpg', 'https://m.media-amazon.com/images/I/61eqTc6VAFL._AC_US75_.jpg', 'https://m.media-amazon.com/images/I/616rUNl-mVL._AC_US75_.jpg', 'https://m.media-amazon.com/images/I/61t5q6aG7DL._AC_US75_.jpg'], 'variant': ['MAIN', 'PT01', 'PT02', 'PT03', 'PT04', 'PT05', 'PT06', 'PT07']}, 'videos': {'title': ['10 Eggs Egg Holder for Refrigerator', 'BINO Plastic Egg Holder with Lid for Kitchen - 13 Egg Holder', 'Watch Before You Buy!', 'Vtopmart Egg Holder for Refrigerator 2 Pack, Plastic Egg', 'Clean and restock my fridge with me!!', 'Fridge Egg Organizer- Full REVIEW', 'Watch Before You Buy - Covered Egg Holder', 'Ambergron Eggs Holder for Fridge', 'Egg Holder for Refrigerator', 'Easily see how many eggs you have left with an egg holder.'], 'url': ['https://www.amazon.com/vdp/0963a43991204e7d953fb5d611ba97ad?ref=dp_vse_rvc_0', 'https://www.amazon.com/vdp/cdda0022c4c843e1acb380989b3519cb?ref=dp_vse_rvc_1', 'https://www.amazon.com/vdp/0ca8687e5f244b79b4054bbf4e55fac4?ref=dp_vse_rvc_2', 'https://www.amazon.com/vdp/06504139933d47129678e5307cbb200c?ref=dp_vse_rvc_3', 'https://www.amazon.com/vdp/0f9182ac2212485ab7f5f8c1209465c2?ref=dp_vse_rvc_4', 'https://www.amazon.com/vdp/001fd59e85cb45b1aff5cca5aa760635?ref=dp_vse_rvc_5', 'https://www.amazon.com/vdp/0f6aa0586410419b96afe20349eaf092?ref=dp_vse_rvc_6', 'https://www.amazon.com/vdp/03af2cb16393486b90b5f2369e95d121?ref=dp_vse_rvc_7', 'https://www.amazon.com/vdp/804499f9de1b411a884d150d87a2b8c6?ref=dp_vse_rvc_8', 'https://www.amazon.com/vdp/07c3de6b0bf94eecab36384b68f3eafc?ref=dp_vse_rvc_9'], 'user_id': ['', '', '/shop/influencer-85053a56', '/shop/thelifeofscottwenger', '/shop/influencer-8ac83341', '/shop/meadowlark.homestead', '/shop/influencer-74e6ffad', '', '', '/shop/bendigitalmktgstrategies']}, 'store': 'HANSGO', 'categories': ['Appliances', 'Parts & Accessories', 'Refrigerator Parts & Accessories', 'Egg Trays'], 'details': '{\"Manufacturer\": \"HANSGO\", \"Part Number\": \"HANSGO\", \"Item Weight\": \"5 ounces\", \"Product Dimensions\": \"10.6\\\\\"L x 4.9\\\\\"W x 2.7\\\\\"H\", \"Item model number\": \"HH0151\", \"Size\": \"medium\", \"Color\": \"Bright white\", \"Material\": \"Plastic\", \"Shape\": \"Rectangular\", \"Handle Material\": \"Plastic\", \"Batteries Included?\": \"No\", \"Batteries Required?\": \"No\", \"Best Sellers Rank\": {\"Tools & Home Improvement\": 246177, \"Refrigerator Egg Trays\": 288}, \"Date First Available\": \"June 16, 2021\", \"Brand\": \"HANSGO\", \"Number of Sets\": \"1\"}', 'parent_asin': 'B097BQDGHJ', 'bought_together': None, 'subtitle': None, 'author': None}\n",
            "{'main_category': 'Tools & Home Improvement', 'title': 'Clothes Dryer Drum Slide, General Electric, Hotpoint, WE1M333, WE1M504', 'average_rating': 3.5, 'rating_number': 18, 'features': [], 'description': ['Brand new dryer drum slide, replaces General Electric, Hotpoint, RCA, WE1M333, WE1M504.'], 'price': 'None', 'images': {'hi_res': ['https://m.media-amazon.com/images/I/51TIpnkrEpL._AC_SL1500_.jpg'], 'large': ['https://m.media-amazon.com/images/I/21HQKcHPIkL._AC_.jpg'], 'thumb': ['https://m.media-amazon.com/images/I/21HQKcHPIkL._AC_US75_.jpg'], 'variant': ['MAIN']}, 'videos': {'title': [], 'url': [], 'user_id': []}, 'store': 'GE', 'categories': ['Appliances', 'Parts & Accessories'], 'details': '{\"Manufacturer\": \"RPI\", \"Part Number\": \"WE1M333,\", \"Item Weight\": \"0.352 ounces\", \"Package Dimensions\": \"5.5 x 4.7 x 0.4 inches\", \"Item model number\": \"WE1M333,\", \"Is Discontinued By Manufacturer\": \"No\", \"Item Package Quantity\": \"1\", \"Batteries Included?\": \"No\", \"Batteries Required?\": \"No\", \"Best Sellers Rank\": {\"Tools & Home Improvement\": 1315213, \"Parts & Accessories\": 181194}, \"Date First Available\": \"February 25, 2014\"}', 'parent_asin': 'B00IN9AGAE', 'bought_together': None, 'subtitle': None, 'author': None}\n"
          ]
        }
      ],
      "source": [
        "for idx,item in enumerate(dataset):\n",
        "  if idx>2:\n",
        "    break\n",
        "  print(item)"
      ]
    },
    {
      "cell_type": "code",
      "execution_count": null,
      "metadata": {
        "colab": {
          "base_uri": "https://localhost:8080/"
        },
        "id": "CnL1rdc5TV-c",
        "outputId": "4ab8788a-c6cd-4ecc-f8fa-0c8c4a4887a7"
      },
      "outputs": [
        {
          "name": "stdout",
          "output_type": "stream",
          "text": [
            "Drive already mounted at /content/drive; to attempt to forcibly remount, call drive.mount(\"/content/drive\", force_remount=True).\n"
          ]
        }
      ],
      "source": [
        "from google.colab import drive\n",
        "drive.mount('/content/drive')"
      ]
    },
    {
      "cell_type": "markdown",
      "metadata": {
        "id": "jGUA5G0SgWmG"
      },
      "source": [
        "#### We want a subset of this dataset which has prices and item description. So lets check what % of the dataset has price field available. Note this is pyArrow table and not a list of dictionanries and hence we should use pyarrow based operations, I resisted the urge to load this on pandas dataframe to investigate as this would have eaten up my RAM."
      ]
    },
    {
      "cell_type": "code",
      "execution_count": 154,
      "metadata": {
        "id": "vd7ipl0gV3Sd"
      },
      "outputs": [],
      "source": [
        "import importlib\n",
        "import items  # this assumes you've already imported it once\n",
        "importlib.reload(items)\n",
        "# i did above as i was constantly re-factoring items.py file but otherwise no need to reload the module as its an expensive operation\n",
        "from items import Item  # re-import class from the updated module"
      ]
    },
    {
      "cell_type": "code",
      "execution_count": 155,
      "metadata": {
        "id": "-8GAfOJ8-Cpt"
      },
      "outputs": [],
      "source": [
        "items = []\n",
        "for datapoint in dataset:\n",
        "  try:\n",
        "    price = float(datapoint[\"price\"])\n",
        "    if price > 0:\n",
        "      item = Item(datapoint, price)\n",
        "      items.append(item)\n",
        "  except ValueError as e:\n",
        "    pass"
      ]
    },
    {
      "cell_type": "code",
      "source": [
        "training_data = []\n",
        "for item in items:\n",
        "  if item.include:\n",
        "    training_data.append(item)"
      ],
      "metadata": {
        "id": "LLRcAbbwKh2X"
      },
      "execution_count": 156,
      "outputs": []
    },
    {
      "cell_type": "code",
      "source": [
        "len(items), len(training_data)"
      ],
      "metadata": {
        "colab": {
          "base_uri": "https://localhost:8080/"
        },
        "id": "1g3NuJlgNf4W",
        "outputId": "f484771c-ec05-4474-b30b-a59b303d199f"
      },
      "execution_count": 158,
      "outputs": [
        {
          "output_type": "execute_result",
          "data": {
            "text/plain": [
              "(46726, 42471)"
            ]
          },
          "metadata": {},
          "execution_count": 158
        }
      ]
    },
    {
      "cell_type": "code",
      "source": [
        "plt.hist([item.token_count for item in training_data], bins=range(0,300,10))"
      ],
      "metadata": {
        "colab": {
          "base_uri": "https://localhost:8080/",
          "height": 573
        },
        "id": "TXM5EArZTDhf",
        "outputId": "415d7647-0962-4f97-c246-22d2693806cc"
      },
      "execution_count": 162,
      "outputs": [
        {
          "output_type": "execute_result",
          "data": {
            "text/plain": [
              "(array([   0.,   56.,  838., 1396., 1219., 1475., 2461., 1832., 2020.,\n",
              "        2217., 1625., 2352., 1312.,  900.,  788.,  863.,  878., 1163.,\n",
              "        1050., 1423., 1314., 1044.,  932.,  802.,  888.,  911.,  765.,\n",
              "         674.,  712.]),\n",
              " array([  0.,  10.,  20.,  30.,  40.,  50.,  60.,  70.,  80.,  90., 100.,\n",
              "        110., 120., 130., 140., 150., 160., 170., 180., 190., 200., 210.,\n",
              "        220., 230., 240., 250., 260., 270., 280., 290.]),\n",
              " <BarContainer object of 29 artists>)"
            ]
          },
          "metadata": {},
          "execution_count": 162
        },
        {
          "output_type": "display_data",
          "data": {
            "text/plain": [
              "<Figure size 640x480 with 1 Axes>"
            ],
            "image/png": "[encoded data removed]"
          },
          "metadata": {}
        }
      ]
    },
    {
      "cell_type": "code",
      "source": [
        "plt.hist([item.price for item in training_data], bins=range(0,300,10))"
      ],
      "metadata": {
        "colab": {
          "base_uri": "https://localhost:8080/",
          "height": 573
        },
        "id": "_gLGkmN6TUhk",
        "outputId": "d3f9ada3-3ae1-4731-97b1-3d865238a8bc"
      },
      "execution_count": 165,
      "outputs": [
        {
          "output_type": "execute_result",
          "data": {
            "text/plain": [
              "(array([ 5067., 10898.,  7582.,  4491.,  2564.,  1774.,  1355.,  1099.,\n",
              "          851.,   753.,   495.,   475.,   412.,   349.,   327.,   284.,\n",
              "          250.,   222.,   224.,   264.,   125.,   139.,   135.,   131.,\n",
              "          138.,    91.,    98.,    91.,    60.]),\n",
              " array([  0.,  10.,  20.,  30.,  40.,  50.,  60.,  70.,  80.,  90., 100.,\n",
              "        110., 120., 130., 140., 150., 160., 170., 180., 190., 200., 210.,\n",
              "        220., 230., 240., 250., 260., 270., 280., 290.]),\n",
              " <BarContainer object of 29 artists>)"
            ]
          },
          "metadata": {},
          "execution_count": 165
        },
        {
          "output_type": "display_data",
          "data": {
            "text/plain": [
              "<Figure size 640x480 with 1 Axes>"
            ],
            "image/png": "[encoded data removed]"
          },
          "metadata": {}
        }
      ]
    },
    {
      "cell_type": "code",
      "source": [
        "plt.hist([item.price for item in items], bins=range(0,300,10))"
      ],
      "metadata": {
        "colab": {
          "base_uri": "https://localhost:8080/",
          "height": 573
        },
        "id": "EJA48AnFUx11",
        "outputId": "10206bbc-fad2-496e-9abe-b85ca07a52fa"
      },
      "execution_count": 166,
      "outputs": [
        {
          "output_type": "execute_result",
          "data": {
            "text/plain": [
              "(array([ 5600., 11986.,  8245.,  4953.,  2814.,  1955.,  1499.,  1213.,\n",
              "          959.,   851.,   558.,   521.,   452.,   377.,   359.,   307.,\n",
              "          283.,   237.,   254.,   289.,   146.,   162.,   156.,   145.,\n",
              "          153.,   100.,   111.,   100.,    69.]),\n",
              " array([  0.,  10.,  20.,  30.,  40.,  50.,  60.,  70.,  80.,  90., 100.,\n",
              "        110., 120., 130., 140., 150., 160., 170., 180., 190., 200., 210.,\n",
              "        220., 230., 240., 250., 260., 270., 280., 290.]),\n",
              " <BarContainer object of 29 artists>)"
            ]
          },
          "metadata": {},
          "execution_count": 166
        },
        {
          "output_type": "display_data",
          "data": {
            "text/plain": [
              "<Figure size 640x480 with 1 Axes>"
            ],
            "image/png": "[encoded data removed]"
          },
          "metadata": {}
        }
      ]
    },
    {
      "cell_type": "markdown",
      "source": [
        "### Clearly we need to do a better job with data pre-precessing. Lets reattempt this."
      ],
      "metadata": {
        "id": "R9IG-uo0byqm"
      }
    },
    {
      "cell_type": "code",
      "source": [],
      "metadata": {
        "id": "ED2evbhXVqlI"
      },
      "execution_count": null,
      "outputs": []
    }
  ],
  "metadata": {
    "colab": {
      "provenance": [],
      "mount_file_id": "1Ttvxyu0tX71VoytgXwc3vKRO7PBQhg0R",
      "authorship_tag": "ABX9TyMJu1lUDnklIxfGtYjkvBgk",
      "include_colab_link": true
    },
    "kernelspec": {
      "display_name": "Python 3",
      "name": "python3"
    },
    "language_info": {
      "name": "python"
    }
  },
  "nbformat": 4,
  "nbformat_minor": 0
}