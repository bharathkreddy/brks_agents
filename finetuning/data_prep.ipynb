{
  "cells": [
    {
      "cell_type": "markdown",
      "metadata": {
        "colab_type": "text",
        "id": "view-in-github"
      },
      "source": [
        "<a href=\"https://colab.research.google.com/github/bharathkreddy/brks_agents/blob/main/finetuning.ipynb\" target=\"_parent\"><img src=\"https://colab.research.google.com/assets/colab-badge.svg\" alt=\"Open In Colab\"/></a>\n"
      ]
    },
    {
      "cell_type": "code",
      "execution_count": 109,
      "metadata": {
        "colab": {
          "base_uri": "https://localhost:8080/"
        },
        "id": "7cnTwwRde4oq",
        "outputId": "77c9c088-ee20-4e04-8acc-abbc987ff69b"
      },
      "outputs": [
        {
          "name": "stdout",
          "output_type": "stream",
          "text": [
            "Requirement already satisfied: python-dotenv in /usr/local/lib/python3.11/dist-packages (1.1.1)\n",
            "Requirement already satisfied: datasets==3.6.0 in /usr/local/lib/python3.11/dist-packages (3.6.0)\n",
            "Requirement already satisfied: filelock in /usr/local/lib/python3.11/dist-packages (from datasets==3.6.0) (3.18.0)\n",
            "Requirement already satisfied: numpy>=1.17 in /usr/local/lib/python3.11/dist-packages (from datasets==3.6.0) (2.0.2)\n",
            "Requirement already satisfied: pyarrow>=15.0.0 in /usr/local/lib/python3.11/dist-packages (from datasets==3.6.0) (18.1.0)\n",
            "Requirement already satisfied: dill<0.3.9,>=0.3.0 in /usr/local/lib/python3.11/dist-packages (from datasets==3.6.0) (0.3.7)\n",
            "Requirement already satisfied: pandas in /usr/local/lib/python3.11/dist-packages (from datasets==3.6.0) (2.2.2)\n",
            "Requirement already satisfied: requests>=2.32.2 in /usr/local/lib/python3.11/dist-packages (from datasets==3.6.0) (2.32.3)\n",
            "Requirement already satisfied: tqdm>=4.66.3 in /usr/local/lib/python3.11/dist-packages (from datasets==3.6.0) (4.67.1)\n",
            "Requirement already satisfied: xxhash in /usr/local/lib/python3.11/dist-packages (from datasets==3.6.0) (3.5.0)\n",
            "Requirement already satisfied: multiprocess<0.70.17 in /usr/local/lib/python3.11/dist-packages (from datasets==3.6.0) (0.70.15)\n",
            "Requirement already satisfied: fsspec<=2025.3.0,>=2023.1.0 in /usr/local/lib/python3.11/dist-packages (from fsspec[http]<=2025.3.0,>=2023.1.0->datasets==3.6.0) (2025.3.0)\n",
            "Requirement already satisfied: huggingface-hub>=0.24.0 in /usr/local/lib/python3.11/dist-packages (from datasets==3.6.0) (0.33.4)\n",
            "Requirement already satisfied: packaging in /usr/local/lib/python3.11/dist-packages (from datasets==3.6.0) (25.0)\n",
            "Requirement already satisfied: pyyaml>=5.1 in /usr/local/lib/python3.11/dist-packages (from datasets==3.6.0) (6.0.2)\n",
            "Requirement already satisfied: aiohttp!=4.0.0a0,!=4.0.0a1 in /usr/local/lib/python3.11/dist-packages (from fsspec[http]<=2025.3.0,>=2023.1.0->datasets==3.6.0) (3.11.15)\n",
            "Requirement already satisfied: typing-extensions>=3.7.4.3 in /usr/local/lib/python3.11/dist-packages (from huggingface-hub>=0.24.0->datasets==3.6.0) (4.14.1)\n",
            "Requirement already satisfied: hf-xet<2.0.0,>=1.1.2 in /usr/local/lib/python3.11/dist-packages (from huggingface-hub>=0.24.0->datasets==3.6.0) (1.1.5)\n",
            "Requirement already satisfied: charset-normalizer<4,>=2 in /usr/local/lib/python3.11/dist-packages (from requests>=2.32.2->datasets==3.6.0) (3.4.2)\n",
            "Requirement already satisfied: idna<4,>=2.5 in /usr/local/lib/python3.11/dist-packages (from requests>=2.32.2->datasets==3.6.0) (3.10)\n",
            "Requirement already satisfied: urllib3<3,>=1.21.1 in /usr/local/lib/python3.11/dist-packages (from requests>=2.32.2->datasets==3.6.0) (2.5.0)\n",
            "Requirement already satisfied: certifi>=2017.4.17 in /usr/local/lib/python3.11/dist-packages (from requests>=2.32.2->datasets==3.6.0) (2025.7.14)\n",
            "Requirement already satisfied: python-dateutil>=2.8.2 in /usr/local/lib/python3.11/dist-packages (from pandas->datasets==3.6.0) (2.9.0.post0)\n",
            "Requirement already satisfied: pytz>=2020.1 in /usr/local/lib/python3.11/dist-packages (from pandas->datasets==3.6.0) (2025.2)\n",
            "Requirement already satisfied: tzdata>=2022.7 in /usr/local/lib/python3.11/dist-packages (from pandas->datasets==3.6.0) (2025.2)\n",
            "Requirement already satisfied: aiohappyeyeballs>=2.3.0 in /usr/local/lib/python3.11/dist-packages (from aiohttp!=4.0.0a0,!=4.0.0a1->fsspec[http]<=2025.3.0,>=2023.1.0->datasets==3.6.0) (2.6.1)\n",
            "Requirement already satisfied: aiosignal>=1.1.2 in /usr/local/lib/python3.11/dist-packages (from aiohttp!=4.0.0a0,!=4.0.0a1->fsspec[http]<=2025.3.0,>=2023.1.0->datasets==3.6.0) (1.4.0)\n",
            "Requirement already satisfied: attrs>=17.3.0 in /usr/local/lib/python3.11/dist-packages (from aiohttp!=4.0.0a0,!=4.0.0a1->fsspec[http]<=2025.3.0,>=2023.1.0->datasets==3.6.0) (25.3.0)\n",
            "Requirement already satisfied: frozenlist>=1.1.1 in /usr/local/lib/python3.11/dist-packages (from aiohttp!=4.0.0a0,!=4.0.0a1->fsspec[http]<=2025.3.0,>=2023.1.0->datasets==3.6.0) (1.7.0)\n",
            "Requirement already satisfied: multidict<7.0,>=4.5 in /usr/local/lib/python3.11/dist-packages (from aiohttp!=4.0.0a0,!=4.0.0a1->fsspec[http]<=2025.3.0,>=2023.1.0->datasets==3.6.0) (6.6.3)\n",
            "Requirement already satisfied: propcache>=0.2.0 in /usr/local/lib/python3.11/dist-packages (from aiohttp!=4.0.0a0,!=4.0.0a1->fsspec[http]<=2025.3.0,>=2023.1.0->datasets==3.6.0) (0.3.2)\n",
            "Requirement already satisfied: yarl<2.0,>=1.17.0 in /usr/local/lib/python3.11/dist-packages (from aiohttp!=4.0.0a0,!=4.0.0a1->fsspec[http]<=2025.3.0,>=2023.1.0->datasets==3.6.0) (1.20.1)\n",
            "Requirement already satisfied: six>=1.5 in /usr/local/lib/python3.11/dist-packages (from python-dateutil>=2.8.2->pandas->datasets==3.6.0) (1.17.0)\n"
          ]
        }
      ],
      "source": [
        "!pip install python-dotenv\n",
        "!pip install datasets==3.6.0 # for ValueError: doesn't have a 'trust_remote_code' key. (load_dataset)"
      ]
    },
    {
      "cell_type": "code",
      "execution_count": 2,
      "metadata": {
        "id": "GVT2XXLReOPv"
      },
      "outputs": [],
      "source": [
        "# imports\n",
        "\n",
        "import os\n",
        "from dotenv import load_dotenv\n",
        "from huggingface_hub import login\n",
        "from datasets import load_dataset, Dataset, DatasetDict\n",
        "import matplotlib.pyplot as plt"
      ]
    },
    {
      "cell_type": "code",
      "execution_count": 3,
      "metadata": {
        "id": "POfR-bIkejg5"
      },
      "outputs": [],
      "source": [
        "# from google.colab import userdata\n",
        "# HF_TOKEN = userdata.get('HUGGINGFACE_API_KEY')\n",
        "# login(HF_TOKEN, add_to_git_credential=True)\n",
        "\n",
        "load_dotenv()\n",
        "HF_TOKEN=os.getenv('HUGGINGFACE_API_KEY')\n",
        "login(HF_TOKEN, add_to_git_credential=True)"
      ]
    },
    {
      "cell_type": "code",
      "execution_count": 4,
      "metadata": {
        "id": "uuhrUoVVfH1Q"
      },
      "outputs": [],
      "source": [
        "# data from https://huggingface.co/datasets/McAuley-Lab/Amazon-Reviews-2023\n",
        "\n",
        "dataset = load_dataset(\"McAuley-Lab/Amazon-Reviews-2023\", f\"raw_meta_Appliances\", split=\"full\", trust_remote_code=True)"
      ]
    },
    {
      "cell_type": "code",
      "execution_count": 5,
      "metadata": {
        "colab": {
          "base_uri": "https://localhost:8080/"
        },
        "id": "QwuIdPELfDeB",
        "outputId": "6c63516a-e23d-4ac5-ffe7-7da11a7ed800"
      },
      "outputs": [
        {
          "name": "stdout",
          "output_type": "stream",
          "text": [
            "{'main_category': 'Industrial & Scientific', 'title': 'ROVSUN Ice Maker Machine Countertop, Make 44lbs Ice in 24 Hours, Compact & Portable Ice Maker with Ice Basket for Home, Office, Kitchen, Bar (Silver)', 'average_rating': 3.7, 'rating_number': 61, 'features': ['【Quick Ice Making】This countertop ice machine creates crystal & bullet shaped ice cubes; 44lbs of ice ready in 24 hours, 12 cubes made per cycle within 10 mins; you can perfectly use it for drinks, wine, smoothies, food', '【Portable Design】The weight of this ice maker is only 23.3lbs, and the small size (10.63 x14.37 x 12.87)\" makes it portable. It\\'s compact feature is perfect for home, office, apartments, dormitories, RVs and more, it can be placed on countertop or tabletop, plug it anywhere you like', '【Simple Operation】Adding the water tank with purified water; Power on machine and press \"on/off\" button to start ice making process; After 8-12 minutes, ice cube will fall off into the ice basket automatically; Take it out and make you cool', '【Full Monitoring】 Designed with compressor cooling system, operates at low noise and will not disturb your normal life; See-through window on top allows you to easily view the progress and check ice level', \"【1 Year Warranty】We do cover 1 year warranty on this ice maker, any questions about it, please don't hesitate to contact us at any time for getting a satisfied service. Worry free purchase, so get this ice machine home today\"], 'description': [], 'price': 'None', 'images': {'hi_res': ['https://m.media-amazon.com/images/I/61zNIJh6ZCL._SL1500_.jpg', 'https://m.media-amazon.com/images/I/71i3VazBG1L._SL1500_.jpg', 'https://m.media-amazon.com/images/I/71INhlaKSGL._SL1500_.jpg', 'https://m.media-amazon.com/images/I/71IjZxwpPgL._SL1500_.jpg', 'https://m.media-amazon.com/images/I/8154EOa6mML._SL1500_.jpg', 'https://m.media-amazon.com/images/I/71P3bDmPIXL._SL1500_.jpg', 'https://m.media-amazon.com/images/I/71ST326RerL._SL1500_.jpg', 'https://m.media-amazon.com/images/I/81I6c2yZStL._SL1500_.jpg', 'https://m.media-amazon.com/images/I/71Dap4gcywL._SL1500_.jpg'], 'large': ['https://m.media-amazon.com/images/I/31idkuA3KlL.jpg', 'https://m.media-amazon.com/images/I/41-MiODg9xL.jpg', 'https://m.media-amazon.com/images/I/41wDXfH8m8L.jpg', 'https://m.media-amazon.com/images/I/41U-3N4Al4L.jpg', 'https://m.media-amazon.com/images/I/51ZMIaw5j+L.jpg', 'https://m.media-amazon.com/images/I/41rxwKw1FqL.jpg', 'https://m.media-amazon.com/images/I/5146wcOEdfL.jpg', 'https://m.media-amazon.com/images/I/61-9E6JF51L.jpg', 'https://m.media-amazon.com/images/I/51+Ddh3KfhL.jpg'], 'thumb': ['https://m.media-amazon.com/images/I/31idkuA3KlL._SX38_SY50_CR,0,0,38,50_.jpg', 'https://m.media-amazon.com/images/I/41-MiODg9xL._SX38_SY50_CR,0,0,38,50_.jpg', 'https://m.media-amazon.com/images/I/41wDXfH8m8L._SX38_SY50_CR,0,0,38,50_.jpg', 'https://m.media-amazon.com/images/I/41U-3N4Al4L._SX38_SY50_CR,0,0,38,50_.jpg', 'https://m.media-amazon.com/images/I/51ZMIaw5j+L._SX38_SY50_CR,0,0,38,50_.jpg', 'https://m.media-amazon.com/images/I/41rxwKw1FqL._SX38_SY50_CR,0,0,38,50_.jpg', 'https://m.media-amazon.com/images/I/5146wcOEdfL._SX38_SY50_CR,0,0,38,50_.jpg', 'https://m.media-amazon.com/images/I/61-9E6JF51L._SX38_SY50_CR,0,0,38,50_.jpg', 'https://m.media-amazon.com/images/I/51+Ddh3KfhL._SX38_SY50_CR,0,0,38,50_.jpg'], 'variant': ['MAIN', 'PT01', 'PT02', 'PT03', 'PT04', 'PT05', 'PT06', 'PT07', 'PT08']}, 'videos': {'title': ['Our Point of View on the Euhomy Ice Maker Machine', 'Frigidaire Ice Maker, Stainless (5 Stars) ', 'Review & Demonstration - Silonn Ice Maker - NOT BAD!', ' Never Run Out of Ice', 'Live DEMO - How Fast Can You Really Make Ice With EUHOMY?', 'Portable Ice Maker Countertop 26Lbs/24H', 'Countertop ice machine 2 size bullet style ice ', 'HONEST Review of Frigidare Ice Maker', 'VIVOHOME Countertop Automatic Ice Cube Maker Machine', 'How To Clean Your Ice Maker '], 'url': ['https://www.amazon.com/vdp/04e6baae04404579891e175567cb7b9d?ref=dp_vse_rvc_0', 'https://www.amazon.com/vdp/0d6ee873c04545e297872f21f38ecd09?ref=dp_vse_rvc_1', 'https://www.amazon.com/vdp/0576ed1078764f53996bef3725ff767d?ref=dp_vse_rvc_2', 'https://www.amazon.com/vdp/0f8034b1507d4db8b05eb89321599eb0?ref=dp_vse_rvc_3', 'https://www.amazon.com/vdp/02caa2103d524af08793cecf3ec72fb0?ref=dp_vse_rvc_4', 'https://www.amazon.com/vdp/0bbb3e5c7b114ed9acde5bc1cc0d6e56?ref=dp_vse_rvc_5', 'https://www.amazon.com/vdp/036aa78c1fce4d66975a8d9df13cf692?ref=dp_vse_rvc_6', 'https://www.amazon.com/vdp/0eee9377eebf416f92f40c79a1201b0a?ref=dp_vse_rvc_7', 'https://www.amazon.com/vdp/08e510fdb18448fea830d0a358fddc3f?ref=dp_vse_rvc_8', 'https://www.amazon.com/vdp/0f989ad8e1aa4b999beac8a87542f2f6?ref=dp_vse_rvc_9'], 'user_id': ['/shop/influencer-20a38664', '/shop/dr.nailnipperfanpage', '/shop/influencer-5d9ad12c', '/shop/mdomer8', '/shop/influencer-767279e2', '', '/shop/wolfzoidgaming', '/shop/sensationmecrazy', '', '/shop/videozeus']}, 'store': 'ROVSUN', 'categories': ['Appliances', 'Refrigerators, Freezers & Ice Makers', 'Ice Makers'], 'details': '{\"Brand\": \"ROVSUN\", \"Model Name\": \"ICM-2005\", \"Capacity\": \"44 Pounds\", \"Wattage\": \"120 watts\", \"Voltage\": \"120 Volts\", \"Package Dimensions\": \"18 x 16 x 13.5 inches; 26.5 Pounds\", \"Date First Available\": \"March 17, 2021\", \"Manufacturer\": \"ROVSUN\"}', 'parent_asin': 'B08Z743RRD', 'bought_together': None, 'subtitle': None, 'author': None}\n",
            "{'main_category': 'Tools & Home Improvement', 'title': 'HANSGO Egg Holder for Refrigerator, Deviled Eggs Dispenser Egg Storage Stackable Plastic Egg Containers Hold ups to 10 Eggs', 'average_rating': 4.2, 'rating_number': 75, 'features': ['Plastic', 'Practical Kitchen Storage - Our egg holder holds up to 10 eggs in normal size, keep eggs safe and fresh with this home basics fridge bin.', 'Easy to Use - Egg holder for refrigerator can be superimposed on the refrigerator, beautiful and room-saving, neatly organize your refrigerator without any loose eggs or flimsy egg cartons. Super easy to clean, you just need to use a sponge or rag to wipe water after washing.', 'Premium Quality - Our transparent egg box is made of high-grade plastic, BPA free, nontoxic and odorless, safe and durable. Size: 10.6 x 4.9 x 2.7inches (L x W x H)', 'Storage Organizer - Our egg trays are the perfect solution for fridge organizing, suited to contain the egg that is smaller than 6cm, compact design effortlessly fits into any refrigerator to help maximize your space without crushing any eggs, also suitable for storage strawberries, dumplings and other kinds of dim sum.', 'Widely Used - Our deviled eggs container is suitable for fridge, freezer, pantry, refrigerator, kitchen cabinets, camping and picnic. Store eggs safely while preserving the freshness.'], 'description': [], 'price': 'None', 'images': {'hi_res': ['https://m.media-amazon.com/images/I/61TWUez1VxL._AC_SL1500_.jpg', 'https://m.media-amazon.com/images/I/514FxZ+3ueL._AC_SL1001_.jpg', 'https://m.media-amazon.com/images/I/61Mxq8-5d7L._AC_SL1001_.jpg', 'https://m.media-amazon.com/images/I/61h5HsdFbZL._AC_SL1001_.jpg', 'https://m.media-amazon.com/images/I/51x6eIAHZQL._AC_SL1001_.jpg', 'https://m.media-amazon.com/images/I/71Zl9mgPHXL._AC_SL1001_.jpg', 'https://m.media-amazon.com/images/I/71eYATu8HYL._AC_SL1001_.jpg', 'https://m.media-amazon.com/images/I/71gJ9weHeHL._AC_SL1001_.jpg'], 'large': ['https://m.media-amazon.com/images/I/41tg+CPGV-L._AC_.jpg', 'https://m.media-amazon.com/images/I/41pJ4enmssL._AC_.jpg', 'https://m.media-amazon.com/images/I/51oxQpNes8L._AC_.jpg', 'https://m.media-amazon.com/images/I/51jI+e26heL._AC_.jpg', 'https://m.media-amazon.com/images/I/410pWlX49yL._AC_.jpg', 'https://m.media-amazon.com/images/I/61eqTc6VAFL._AC_.jpg', 'https://m.media-amazon.com/images/I/616rUNl-mVL._AC_.jpg', 'https://m.media-amazon.com/images/I/61t5q6aG7DL._AC_.jpg'], 'thumb': ['https://m.media-amazon.com/images/I/41tg+CPGV-L._AC_US75_.jpg', 'https://m.media-amazon.com/images/I/41pJ4enmssL._AC_US75_.jpg', 'https://m.media-amazon.com/images/I/51oxQpNes8L._AC_US75_.jpg', 'https://m.media-amazon.com/images/I/51jI+e26heL._AC_US75_.jpg', 'https://m.media-amazon.com/images/I/410pWlX49yL._AC_US75_.jpg', 'https://m.media-amazon.com/images/I/61eqTc6VAFL._AC_US75_.jpg', 'https://m.media-amazon.com/images/I/616rUNl-mVL._AC_US75_.jpg', 'https://m.media-amazon.com/images/I/61t5q6aG7DL._AC_US75_.jpg'], 'variant': ['MAIN', 'PT01', 'PT02', 'PT03', 'PT04', 'PT05', 'PT06', 'PT07']}, 'videos': {'title': ['10 Eggs Egg Holder for Refrigerator', 'BINO Plastic Egg Holder with Lid for Kitchen - 13 Egg Holder', 'Watch Before You Buy!', 'Vtopmart Egg Holder for Refrigerator 2 Pack, Plastic Egg', 'Clean and restock my fridge with me!!', 'Fridge Egg Organizer- Full REVIEW', 'Watch Before You Buy - Covered Egg Holder', 'Ambergron Eggs Holder for Fridge', 'Egg Holder for Refrigerator', 'Easily see how many eggs you have left with an egg holder.'], 'url': ['https://www.amazon.com/vdp/0963a43991204e7d953fb5d611ba97ad?ref=dp_vse_rvc_0', 'https://www.amazon.com/vdp/cdda0022c4c843e1acb380989b3519cb?ref=dp_vse_rvc_1', 'https://www.amazon.com/vdp/0ca8687e5f244b79b4054bbf4e55fac4?ref=dp_vse_rvc_2', 'https://www.amazon.com/vdp/06504139933d47129678e5307cbb200c?ref=dp_vse_rvc_3', 'https://www.amazon.com/vdp/0f9182ac2212485ab7f5f8c1209465c2?ref=dp_vse_rvc_4', 'https://www.amazon.com/vdp/001fd59e85cb45b1aff5cca5aa760635?ref=dp_vse_rvc_5', 'https://www.amazon.com/vdp/0f6aa0586410419b96afe20349eaf092?ref=dp_vse_rvc_6', 'https://www.amazon.com/vdp/03af2cb16393486b90b5f2369e95d121?ref=dp_vse_rvc_7', 'https://www.amazon.com/vdp/804499f9de1b411a884d150d87a2b8c6?ref=dp_vse_rvc_8', 'https://www.amazon.com/vdp/07c3de6b0bf94eecab36384b68f3eafc?ref=dp_vse_rvc_9'], 'user_id': ['', '', '/shop/influencer-85053a56', '/shop/thelifeofscottwenger', '/shop/influencer-8ac83341', '/shop/meadowlark.homestead', '/shop/influencer-74e6ffad', '', '', '/shop/bendigitalmktgstrategies']}, 'store': 'HANSGO', 'categories': ['Appliances', 'Parts & Accessories', 'Refrigerator Parts & Accessories', 'Egg Trays'], 'details': '{\"Manufacturer\": \"HANSGO\", \"Part Number\": \"HANSGO\", \"Item Weight\": \"5 ounces\", \"Product Dimensions\": \"10.6\\\\\"L x 4.9\\\\\"W x 2.7\\\\\"H\", \"Item model number\": \"HH0151\", \"Size\": \"medium\", \"Color\": \"Bright white\", \"Material\": \"Plastic\", \"Shape\": \"Rectangular\", \"Handle Material\": \"Plastic\", \"Batteries Included?\": \"No\", \"Batteries Required?\": \"No\", \"Best Sellers Rank\": {\"Tools & Home Improvement\": 246177, \"Refrigerator Egg Trays\": 288}, \"Date First Available\": \"June 16, 2021\", \"Brand\": \"HANSGO\", \"Number of Sets\": \"1\"}', 'parent_asin': 'B097BQDGHJ', 'bought_together': None, 'subtitle': None, 'author': None}\n",
            "{'main_category': 'Tools & Home Improvement', 'title': 'Clothes Dryer Drum Slide, General Electric, Hotpoint, WE1M333, WE1M504', 'average_rating': 3.5, 'rating_number': 18, 'features': [], 'description': ['Brand new dryer drum slide, replaces General Electric, Hotpoint, RCA, WE1M333, WE1M504.'], 'price': 'None', 'images': {'hi_res': ['https://m.media-amazon.com/images/I/51TIpnkrEpL._AC_SL1500_.jpg'], 'large': ['https://m.media-amazon.com/images/I/21HQKcHPIkL._AC_.jpg'], 'thumb': ['https://m.media-amazon.com/images/I/21HQKcHPIkL._AC_US75_.jpg'], 'variant': ['MAIN']}, 'videos': {'title': [], 'url': [], 'user_id': []}, 'store': 'GE', 'categories': ['Appliances', 'Parts & Accessories'], 'details': '{\"Manufacturer\": \"RPI\", \"Part Number\": \"WE1M333,\", \"Item Weight\": \"0.352 ounces\", \"Package Dimensions\": \"5.5 x 4.7 x 0.4 inches\", \"Item model number\": \"WE1M333,\", \"Is Discontinued By Manufacturer\": \"No\", \"Item Package Quantity\": \"1\", \"Batteries Included?\": \"No\", \"Batteries Required?\": \"No\", \"Best Sellers Rank\": {\"Tools & Home Improvement\": 1315213, \"Parts & Accessories\": 181194}, \"Date First Available\": \"February 25, 2014\"}', 'parent_asin': 'B00IN9AGAE', 'bought_together': None, 'subtitle': None, 'author': None}\n"
          ]
        }
      ],
      "source": [
        "for idx,item in enumerate(dataset):\n",
        "  if idx>2:\n",
        "    break\n",
        "  print(item)"
      ]
    },
    {
      "cell_type": "code",
      "execution_count": null,
      "metadata": {
        "colab": {
          "base_uri": "https://localhost:8080/"
        },
        "id": "CnL1rdc5TV-c",
        "outputId": "4ab8788a-c6cd-4ecc-f8fa-0c8c4a4887a7"
      },
      "outputs": [
        {
          "name": "stdout",
          "output_type": "stream",
          "text": [
            "Drive already mounted at /content/drive; to attempt to forcibly remount, call drive.mount(\"/content/drive\", force_remount=True).\n"
          ]
        }
      ],
      "source": [
        "from google.colab import drive\n",
        "drive.mount('/content/drive')"
      ]
    },
    {
      "cell_type": "markdown",
      "metadata": {
        "id": "jGUA5G0SgWmG"
      },
      "source": [
        "#### We want a subset of this dataset which has prices and item description. So lets check what % of the dataset has price field available. Note this is pyArrow table and not a list of dictionanries and hence we should use pyarrow based operations, I resisted the urge to load this on pandas dataframe to investigate as this would have eaten up my RAM.\n"
      ]
    },
    {
      "cell_type": "code",
      "execution_count": 7,
      "metadata": {
        "id": "vd7ipl0gV3Sd"
      },
      "outputs": [],
      "source": [
        "# import importlib\n",
        "# import items  # this assumes you've already imported it once\n",
        "# importlib.reload(items)\n",
        "# i did above as i was constantly re-factoring items.py file but otherwise no need to reload the module as its an expensive operation\n",
        "from items import Item  # re-import class from the updated module\n",
        "from loaders import ItemLoader"
      ]
    },
    {
      "cell_type": "code",
      "execution_count": 12,
      "metadata": {},
      "outputs": [],
      "source": [
        "dataset_names = [\n",
        "    # \"Automotive\",\n",
        "    # \"Electronics\",\n",
        "    # \"Office_Products\",\n",
        "    # \"Tools_and_Home_Improvement\",\n",
        "    # \"Cell_Phones_and_Accessories\",\n",
        "    # \"Toys_and_Games\",\n",
        "    \"Appliances\",\n",
        "    \"Musical_Instruments\",\n",
        "]"
      ]
    },
    {
      "cell_type": "code",
      "execution_count": 13,
      "metadata": {
        "id": "-8GAfOJ8-Cpt"
      },
      "outputs": [
        {
          "name": "stdout",
          "output_type": "stream",
          "text": [
            "Loading dataset Appliances\n"
          ]
        },
        {
          "name": "stderr",
          "output_type": "stream",
          "text": [
            "100%|██████████| 95/95 [00:16<00:00,  5.83it/s]\n"
          ]
        },
        {
          "name": "stdout",
          "output_type": "stream",
          "text": [
            "Completed Appliances with 28,625 datapoints in 0.3 mins\n",
            "Loading dataset Musical_Instruments\n"
          ]
        },
        {
          "data": {
            "application/vnd.jupyter.widget-view+json": {
              "model_id": "084cad6001fa404b9cc738ed472796e8",
              "version_major": 2,
              "version_minor": 0
            },
            "text/plain": [
              "meta_Musical_Instruments.jsonl:   0%|          | 0.00/632M [00:00<?, ?B/s]"
            ]
          },
          "metadata": {},
          "output_type": "display_data"
        },
        {
          "data": {
            "application/vnd.jupyter.widget-view+json": {
              "model_id": "e3b5d00c91054aed8ba482a2cb26406f",
              "version_major": 2,
              "version_minor": 0
            },
            "text/plain": [
              "Generating full split:   0%|          | 0/213593 [00:00<?, ? examples/s]"
            ]
          },
          "metadata": {},
          "output_type": "display_data"
        },
        {
          "name": "stderr",
          "output_type": "stream",
          "text": [
            "100%|██████████| 214/214 [00:28<00:00,  7.41it/s]\n"
          ]
        },
        {
          "name": "stdout",
          "output_type": "stream",
          "text": [
            "Completed Musical_Instruments with 66,829 datapoints in 2.1 mins\n"
          ]
        }
      ],
      "source": [
        "items = []\n",
        "for dataset_name in dataset_names:\n",
        "    loader = ItemLoader(dataset_name)\n",
        "    items.extend(loader.load())"
      ]
    },
    {
      "cell_type": "code",
      "execution_count": 14,
      "metadata": {
        "id": "LLRcAbbwKh2X"
      },
      "outputs": [
        {
          "name": "stdout",
          "output_type": "stream",
          "text": [
            "A grand total of 95,454 items\n"
          ]
        }
      ],
      "source": [
        "print(f\"A grand total of {len(items):,} items\")"
      ]
    },
    {
      "cell_type": "code",
      "execution_count": 15,
      "metadata": {
        "colab": {
          "base_uri": "https://localhost:8080/"
        },
        "id": "1g3NuJlgNf4W",
        "outputId": "f484771c-ec05-4474-b30b-a59b303d199f"
      },
      "outputs": [
        {
          "data": {
            "image/png": "[encoded data removed]",
            "text/plain": [
              "<Figure size 1500x600 with 1 Axes>"
            ]
          },
          "metadata": {},
          "output_type": "display_data"
        }
      ],
      "source": [
        "# Plot the distribution of token counts again\n",
        "\n",
        "tokens = [item.token_count for item in items]\n",
        "plt.figure(figsize=(15, 6))\n",
        "plt.title(f\"Token counts: Avg {sum(tokens)/len(tokens):,.1f} and highest {max(tokens):,}\\n\")\n",
        "plt.xlabel('Length (tokens)')\n",
        "plt.ylabel('Count')\n",
        "plt.hist(tokens, rwidth=0.7, color=\"skyblue\", bins=range(0, 300, 10))\n",
        "plt.show()"
      ]
    },
    {
      "cell_type": "code",
      "execution_count": 16,
      "metadata": {
        "colab": {
          "base_uri": "https://localhost:8080/",
          "height": 573
        },
        "id": "TXM5EArZTDhf",
        "outputId": "415d7647-0962-4f97-c246-22d2693806cc"
      },
      "outputs": [
        {
          "data": {
            "image/png": "[encoded data removed]",
            "text/plain": [
              "<Figure size 1500x600 with 1 Axes>"
            ]
          },
          "metadata": {},
          "output_type": "display_data"
        }
      ],
      "source": [
        "# Plot the distribution of prices\n",
        "\n",
        "prices = [item.price for item in items]\n",
        "plt.figure(figsize=(15, 6))\n",
        "plt.title(f\"Prices: Avg {sum(prices)/len(prices):,.1f} and highest {max(prices):,}\\n\")\n",
        "plt.xlabel('Price ($)')\n",
        "plt.ylabel('Count')\n",
        "plt.hist(prices, rwidth=0.7, color=\"blueviolet\", bins=range(0, 1000, 10))\n",
        "plt.show()"
      ]
    },
    {
      "cell_type": "code",
      "execution_count": 165,
      "metadata": {
        "colab": {
          "base_uri": "https://localhost:8080/",
          "height": 573
        },
        "id": "_gLGkmN6TUhk",
        "outputId": "d3f9ada3-3ae1-4731-97b1-3d865238a8bc"
      },
      "outputs": [
        {
          "data": {
            "text/plain": [
              "(array([ 5067., 10898.,  7582.,  4491.,  2564.,  1774.,  1355.,  1099.,\n",
              "          851.,   753.,   495.,   475.,   412.,   349.,   327.,   284.,\n",
              "          250.,   222.,   224.,   264.,   125.,   139.,   135.,   131.,\n",
              "          138.,    91.,    98.,    91.,    60.]),\n",
              " array([  0.,  10.,  20.,  30.,  40.,  50.,  60.,  70.,  80.,  90., 100.,\n",
              "        110., 120., 130., 140., 150., 160., 170., 180., 190., 200., 210.,\n",
              "        220., 230., 240., 250., 260., 270., 280., 290.]),\n",
              " <BarContainer object of 29 artists>)"
            ]
          },
          "execution_count": 165,
          "metadata": {},
          "output_type": "execute_result"
        },
        {
          "data": {
            "image/png": "[encoded data removed]",
            "text/plain": [
              "<Figure size 640x480 with 1 Axes>"
            ]
          },
          "metadata": {},
          "output_type": "display_data"
        }
      ],
      "source": [
        "plt.hist([item.price for item in training_data], bins=range(0,300,10))"
      ]
    },
    {
      "cell_type": "markdown",
      "metadata": {
        "id": "R9IG-uo0byqm"
      },
      "source": [
        "### Clearly we need to do a better job with data pre-precessing. but this will suffice for now.\n",
        "\n",
        "### Current data is skewed so we will balance the datasets by taking in equal observations for each price point\n"
      ]
    },
    {
      "cell_type": "code",
      "execution_count": 31,
      "metadata": {
        "id": "ED2evbhXVqlI"
      },
      "outputs": [],
      "source": [
        "from collections import defaultdict\n",
        "\n",
        "slots = defaultdict(list)\n",
        "for item in items:\n",
        "    slots[round(item.price)].append(item)"
      ]
    },
    {
      "cell_type": "code",
      "execution_count": 54,
      "metadata": {},
      "outputs": [
        {
          "data": {
            "text/plain": [
              "Text(0.5, 0, 'price buckets')"
            ]
          },
          "execution_count": 54,
          "metadata": {},
          "output_type": "execute_result"
        },
        {
          "data": {
            "image/png": "[encoded data removed]",
            "text/plain": [
              "<Figure size 640x480 with 1 Axes>"
            ]
          },
          "metadata": {},
          "output_type": "display_data"
        }
      ],
      "source": [
        "plt.hist([len(slots[i]) for i in range(1,1000)], bins=range(1,2000,50))\n",
        "plt.ylabel(\"observations\")\n",
        "plt.xlabel(\"price buckets\")"
      ]
    },
    {
      "cell_type": "code",
      "execution_count": 52,
      "metadata": {},
      "outputs": [
        {
          "data": {
            "text/plain": [
              "(1, 999)"
            ]
          },
          "execution_count": 52,
          "metadata": {},
          "output_type": "execute_result"
        }
      ],
      "source": [
        "min(list(slots.keys())),max(list(slots.keys()))"
      ]
    },
    {
      "cell_type": "code",
      "execution_count": null,
      "metadata": {},
      "outputs": [],
      "source": [
        "# lets curate a dataset for all prices less than 100\n",
        "samples = []\n",
        "for i in range(1,101):\n",
        "    samples.extend(slots[i]) # extend as each slots[i] is a list, and we want samples to be a list not list of lists!\n",
        "    "
      ]
    },
    {
      "cell_type": "code",
      "execution_count": 65,
      "metadata": {},
      "outputs": [
        {
          "data": {
            "text/plain": [
              "73723"
            ]
          },
          "execution_count": 65,
          "metadata": {},
          "output_type": "execute_result"
        }
      ],
      "source": [
        "len(samples)"
      ]
    },
    {
      "cell_type": "code",
      "execution_count": 71,
      "metadata": {},
      "outputs": [
        {
          "name": "stdout",
          "output_type": "stream",
          "text": [
            "1.23\n",
            "\n",
            "How much does this cost to the nearest dollar?\n",
            "\n",
            "OR Dryer Rear Bearing Support\n",
            "or Dryer Rear Drum Bearing Support Cup. The bearing support cup helps the drum rotate smoothly and quietly. This part works with the following brands Frigidaire, White Westinghouse, Kelvinator, Gibson, Kenmore, Sears, Tappan, & Electrolux. Replaces Old Numbers 175427 774936 85-951 DE727 or Dryer Rear Drum Bearing Support Cup. The bearing support cup helps the drum rotate smoothly and quietly. This part works with the following brands Frigidaire, White Westinghouse, Kelvinator, Gibson, Kenmore, Sears, Tappan, & Electrolux. Replaces Old Numbers; 175427 774936 85-951 DE727 Manufacturer ERP, Part Weight \n",
            "\n",
            "Price is $\n",
            "\n",
            "How much does this cost to the nearest dollar?\n",
            "\n",
            "OR Dryer Rear Bearing Support\n",
            "or Dryer Rear Drum Bearing Support Cup. The bearing support cup helps the drum rotate smoothly and quietly. This part works with the following brands Frigidaire, White Westinghouse, Kelvinator, Gibson, Kenmore, Sears, Tappan, & Electrolux. Replaces Old Numbers 175427 774936 85-951 DE727 or Dryer Rear Drum Bearing Support Cup. The bearing support cup helps the drum rotate smoothly and quietly. This part works with the following brands Frigidaire, White Westinghouse, Kelvinator, Gibson, Kenmore, Sears, Tappan, & Electrolux. Replaces Old Numbers; 175427 774936 85-951 DE727 Manufacturer ERP, Part Weight \n",
            "\n",
            "Price is $1.00\n"
          ]
        }
      ],
      "source": [
        "print(samples[0].price)\n",
        "print()\n",
        "print(samples[0].test_prompt())\n",
        "print()\n",
        "print(samples[0].prompt)"
      ]
    },
    {
      "cell_type": "code",
      "execution_count": 72,
      "metadata": {},
      "outputs": [
        {
          "data": {
            "text/plain": [
              "(array([  16.,   64.,  137.,  335.,  773., 1461., 2382., 2864., 2835.,\n",
              "        3757., 2195., 2567., 2496., 2142., 2436., 2032., 1856., 1660.,\n",
              "        1663., 2742., 1060., 1668., 1211., 1188., 1791., 1130., 1094.,\n",
              "         950., 1036., 1808.,  606.,  630.,  788.,  589.,  991.,  745.,\n",
              "         635.,  559.,  616., 1441.,  324.,  352.,  460.,  371.,  614.,\n",
              "         420.,  281.,  302.,  401., 1130.,  183.,  230.,  290.,  242.,\n",
              "         460.,  238.,  222.,  201.,  356.,  913.,  142.,  147.,  195.,\n",
              "         202.,  375.,  215.,  132.,  163.,  295.,  760.,  108.,  143.,\n",
              "         163.,  126.,  292.,  158.,  110.,  125.,  273.,  671.,   94.,\n",
              "         100.,  116.,  109.,  278.,  108.,   88.,  139.,  254.,  650.,\n",
              "          73.,   75.,   97.,   73.,  194.,  104.,  103.,  124.,  419.,\n",
              "         791.]),\n",
              " array([  0.99  ,   1.9851,   2.9802,   3.9753,   4.9704,   5.9655,\n",
              "          6.9606,   7.9557,   8.9508,   9.9459,  10.941 ,  11.9361,\n",
              "         12.9312,  13.9263,  14.9214,  15.9165,  16.9116,  17.9067,\n",
              "         18.9018,  19.8969,  20.892 ,  21.8871,  22.8822,  23.8773,\n",
              "         24.8724,  25.8675,  26.8626,  27.8577,  28.8528,  29.8479,\n",
              "         30.843 ,  31.8381,  32.8332,  33.8283,  34.8234,  35.8185,\n",
              "         36.8136,  37.8087,  38.8038,  39.7989,  40.794 ,  41.7891,\n",
              "         42.7842,  43.7793,  44.7744,  45.7695,  46.7646,  47.7597,\n",
              "         48.7548,  49.7499,  50.745 ,  51.7401,  52.7352,  53.7303,\n",
              "         54.7254,  55.7205,  56.7156,  57.7107,  58.7058,  59.7009,\n",
              "         60.696 ,  61.6911,  62.6862,  63.6813,  64.6764,  65.6715,\n",
              "         66.6666,  67.6617,  68.6568,  69.6519,  70.647 ,  71.6421,\n",
              "         72.6372,  73.6323,  74.6274,  75.6225,  76.6176,  77.6127,\n",
              "         78.6078,  79.6029,  80.598 ,  81.5931,  82.5882,  83.5833,\n",
              "         84.5784,  85.5735,  86.5686,  87.5637,  88.5588,  89.5539,\n",
              "         90.549 ,  91.5441,  92.5392,  93.5343,  94.5294,  95.5245,\n",
              "         96.5196,  97.5147,  98.5098,  99.5049, 100.5   ]),\n",
              " <BarContainer object of 100 artists>)"
            ]
          },
          "execution_count": 72,
          "metadata": {},
          "output_type": "execute_result"
        },
        {
          "data": {
            "image/png": "[encoded data removed]",
            "text/plain": [
              "<Figure size 640x480 with 1 Axes>"
            ]
          },
          "metadata": {},
          "output_type": "display_data"
        }
      ],
      "source": [
        "prices = [float(item.price) for item in samples]\n",
        "plt.hist(prices, bins=100)"
      ]
    },
    {
      "cell_type": "markdown",
      "metadata": {},
      "source": [
        "# splitting the data into test and train split\n"
      ]
    },
    {
      "cell_type": "code",
      "execution_count": 74,
      "metadata": {},
      "outputs": [
        {
          "name": "stdout",
          "output_type": "stream",
          "text": [
            "Divided into a training set of 73,000 items and test set of 723 items\n"
          ]
        }
      ],
      "source": [
        "import random\n",
        "random.seed(42)\n",
        "random.shuffle(samples)\n",
        "train = samples[:73_000]\n",
        "test = samples[73_000:]\n",
        "print(f\"Divided into a training set of {len(train):,} items and test set of {len(test):,} items\")"
      ]
    },
    {
      "cell_type": "code",
      "execution_count": 75,
      "metadata": {},
      "outputs": [
        {
          "name": "stdout",
          "output_type": "stream",
          "text": [
            "How much does this cost to the nearest dollar?\n",
            "\n",
            "4 Pack Mini Stage Light Clamp OD Tubing/Pipe Aluminum Mounting Truss Clamps Max Heavy Duty Load 22lbs\n",
            "--0.8 Inch stage light clamps, Max Load is 22lb and Fit the Pipe Diameter measure your pipe before you purchase --Completely wrap around truss for added security and stability --Threaded Bolt 5 mm, apply to Aperture of the lamp --Completely Wrap Around the Truss to make Sure Security and Stability ---Suitable for Hooking LED Stage Lights Manufacturer Gchee, Weight 5.6 ounces, Dimensions 4.7 x 4.2 x 1.4 inches, Style Heavy Duty, Material Aluminum, Rank Musical Instruments 33307, Stage Lights 657, Available May 20, 2019\n",
            "\n",
            "Price is $19.00\n"
          ]
        }
      ],
      "source": [
        "print(train[0].prompt)"
      ]
    },
    {
      "cell_type": "code",
      "execution_count": 77,
      "metadata": {},
      "outputs": [
        {
          "name": "stdout",
          "output_type": "stream",
          "text": [
            "How much does this cost to the nearest dollar?\n",
            "\n",
            "Lanikai LGB-S Padded Soprano Ukulele Gig Bag\n",
            "This high quality padded gig bag is the perfect solution for all your ukulele storage and protection needs! With thick foam padding, reinforced stitching, ergonomic rubber handle, and spacious front storage pocket the Lanikai LGB Ukulele Gig Bag is the perfect choice to protect your ukulele for travel, storage, or wherever your adventures take you! Soprano Sized Durable Foam Padding Ergonomic Rubber Handle Spacious Storage Pocket Lanikai Logo Weight 9.6 ounces, Dimensions 21.5 x 3.5 x 7.5 inches, model number LGB-S, Rank Musical Instruments Acoustic Guitar Bags & Cases 566, Is Discontinued No, Available November 3,\n",
            "\n",
            "Price is $\n"
          ]
        }
      ],
      "source": [
        "print(test[0].test_prompt())"
      ]
    },
    {
      "cell_type": "markdown",
      "metadata": {},
      "source": [
        "# upload the dataset to hugging face and pickle the files to be used locally\n"
      ]
    },
    {
      "cell_type": "code",
      "execution_count": 78,
      "metadata": {},
      "outputs": [],
      "source": [
        "train_prompts = [item.prompt for item in train]\n",
        "train_prices = [item.price for item in train]\n",
        "test_prompts = [item.test_prompt() for item in test]\n",
        "test_prices = [item.price for item in test]"
      ]
    },
    {
      "cell_type": "code",
      "execution_count": 79,
      "metadata": {},
      "outputs": [],
      "source": [
        "# Create a Dataset from the lists\n",
        "\n",
        "train_dataset = Dataset.from_dict({\"text\": train_prompts, \"price\": train_prices})\n",
        "test_dataset = Dataset.from_dict({\"text\": test_prompts, \"price\": test_prices})\n",
        "dataset = DatasetDict({\n",
        "    \"train\": train_dataset,\n",
        "    \"test\": test_dataset\n",
        "})"
      ]
    },
    {
      "cell_type": "code",
      "execution_count": 80,
      "metadata": {},
      "outputs": [
        {
          "data": {
            "application/vnd.jupyter.widget-view+json": {
              "model_id": "465affe9c36a43ae925235f5ee604c92",
              "version_major": 2,
              "version_minor": 0
            },
            "text/plain": [
              "Uploading the dataset shards:   0%|          | 0/1 [00:00<?, ?it/s]"
            ]
          },
          "metadata": {},
          "output_type": "display_data"
        },
        {
          "data": {
            "application/vnd.jupyter.widget-view+json": {
              "model_id": "603ac243185544d495b3ec125fb394fd",
              "version_major": 2,
              "version_minor": 0
            },
            "text/plain": [
              "Creating parquet from Arrow format:   0%|          | 0/73 [00:00<?, ?ba/s]"
            ]
          },
          "metadata": {},
          "output_type": "display_data"
        },
        {
          "data": {
            "application/vnd.jupyter.widget-view+json": {
              "model_id": "94248173618d4c88a6867e5a0263e5b3",
              "version_major": 2,
              "version_minor": 0
            },
            "text/plain": [
              "Uploading the dataset shards:   0%|          | 0/1 [00:00<?, ?it/s]"
            ]
          },
          "metadata": {},
          "output_type": "display_data"
        },
        {
          "data": {
            "application/vnd.jupyter.widget-view+json": {
              "model_id": "821b8e60fca64edf8086f572360ba48a",
              "version_major": 2,
              "version_minor": 0
            },
            "text/plain": [
              "Creating parquet from Arrow format:   0%|          | 0/1 [00:00<?, ?ba/s]"
            ]
          },
          "metadata": {},
          "output_type": "display_data"
        },
        {
          "data": {
            "text/plain": [
              "CommitInfo(commit_url='https://huggingface.co/datasets/BharathkReddy/amazonreview-data-appliances_and_musicalinstruments/commit/12988682e462d9298c558c3fcbef3db49707088b', commit_message='Upload dataset', commit_description='', oid='12988682e462d9298c558c3fcbef3db49707088b', pr_url=None, repo_url=RepoUrl('https://huggingface.co/datasets/BharathkReddy/amazonreview-data-appliances_and_musicalinstruments', endpoint='https://huggingface.co', repo_type='dataset', repo_id='BharathkReddy/amazonreview-data-appliances_and_musicalinstruments'), pr_revision=None, pr_num=None)"
            ]
          },
          "execution_count": 80,
          "metadata": {},
          "output_type": "execute_result"
        }
      ],
      "source": [
        "HF_USER = \"BharathkReddy\"\n",
        "DATASET_NAME = f\"{HF_USER}/amazonreview-data-appliances_and_musicalinstruments\"\n",
        "dataset.push_to_hub(DATASET_NAME, private=False)"
      ]
    },
    {
      "cell_type": "code",
      "execution_count": 89,
      "metadata": {},
      "outputs": [],
      "source": [
        "# Let's pickle the training and test dataset so we don't have to execute all this code next time\n",
        "import pickle\n",
        "\n",
        "with open('data/train.pkl', 'wb') as file:\n",
        "    pickle.dump(train, file)\n",
        "\n",
        "with open('data/test.pkl', 'wb') as file:\n",
        "    pickle.dump(test, file)"
      ]
    },
    {
      "cell_type": "code",
      "execution_count": null,
      "metadata": {},
      "outputs": [],
      "source": []
    }
  ],
  "metadata": {
    "colab": {
      "authorship_tag": "ABX9TyMJu1lUDnklIxfGtYjkvBgk",
      "include_colab_link": true,
      "mount_file_id": "1Ttvxyu0tX71VoytgXwc3vKRO7PBQhg0R",
      "provenance": []
    },
    "kernelspec": {
      "display_name": "agents",
      "language": "python",
      "name": "python3"
    },
    "language_info": {
      "codemirror_mode": {
        "name": "ipython",
        "version": 3
      },
      "file_extension": ".py",
      "mimetype": "text/x-python",
      "name": "python",
      "nbconvert_exporter": "python",
      "pygments_lexer": "ipython3",
      "version": "3.12.9"
    }
  },
  "nbformat": 4,
  "nbformat_minor": 0
}
